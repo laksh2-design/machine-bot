{
 "cells": [
  {
   "cell_type": "markdown",
   "metadata": {},
   "source": [
    "##### Importing data to a dataframe"
   ]
  },
  {
   "cell_type": "code",
   "execution_count": 45,
   "metadata": {},
   "outputs": [
    {
     "name": "stdout",
     "output_type": "stream",
     "text": [
      "<bound method NDFrame.head of          GABRG2       CELF4        SRRM4      SLC1A3      ATP1A3      RBFOX3  \\\n",
      "0     35.038262  161.176004    68.074337   58.063405   20.021864  269.294069   \n",
      "1     95.324867   75.256474    87.297510    0.000000   18.061554  342.166102   \n",
      "2    220.143867  187.976727    42.219372  106.553653    0.000000  187.976727   \n",
      "3    166.010840   26.159284    61.373704    0.000000   30.183789  254.549955   \n",
      "4    188.426220   71.160966   119.269788   57.129226   16.036274  265.600789   \n",
      "..          ...         ...          ...         ...         ...         ...   \n",
      "866  665.606813  101.002551     4.040102    0.000000   95.952424   10.100255   \n",
      "867   21.157688   45.337903    18.135161    1.007509  290.162582   14.105125   \n",
      "868    4.111466   81.201453  1704.202638    2.055733    9.250798   75.034254   \n",
      "869   37.480576  438.624037     0.000000    0.000000   69.896209    3.038966   \n",
      "870  664.830372   18.214531   138.632817    0.000000  224.645879    0.000000   \n",
      "\n",
      "         GABRA4      NHSL1  GRAMD3      SEZ6L2  ...  FERMT1  CSPG4  GJA1  \\\n",
      "0    188.205520   0.000000     0.0    0.000000  ...     0.0    0.0   0.0   \n",
      "1    683.328784   0.000000     0.0    1.003420  ...     0.0    0.0   0.0   \n",
      "2    299.556496   0.000000     0.0    0.000000  ...     0.0    0.0   0.0   \n",
      "3    446.720079   0.000000     0.0   25.153158  ...     0.0    0.0   0.0   \n",
      "4    287.650666  24.054411     0.0    1.002267  ...     0.0    0.0   0.0   \n",
      "..          ...        ...     ...         ...  ...     ...    ...   ...   \n",
      "866   79.792016   0.000000     0.0  192.914873  ...     0.0    0.0   0.0   \n",
      "867    0.000000   3.022527     0.0   64.480574  ...     0.0    0.0   0.0   \n",
      "868  238.465025   1.027866     0.0    1.027866  ...     0.0    0.0   0.0   \n",
      "869   66.857244   0.000000     0.0  130.675522  ...     0.0    0.0   0.0   \n",
      "870  307.623186   0.000000     0.0  246.908083  ...     0.0    0.0   0.0   \n",
      "\n",
      "     LAMA1  YAP1  LINC00639.2       SMOC1  LINC00498  GFRA1  Label  \n",
      "0      0.0   0.0     0.000000    1.001093        0.0    0.0      1  \n",
      "1      0.0   0.0     0.000000    1.003420        0.0    0.0      1  \n",
      "2      0.0   0.0     7.036562    0.000000        0.0    0.0      1  \n",
      "3      0.0   0.0     0.000000    1.006126        0.0    0.0      1  \n",
      "4      0.0   0.0     0.000000    0.000000        0.0    0.0      1  \n",
      "..     ...   ...          ...         ...        ...    ...    ...  \n",
      "866    0.0   0.0     0.000000    1.010026        0.0    0.0      0  \n",
      "867    0.0   0.0     0.000000    0.000000        0.0    0.0      0  \n",
      "868    0.0   0.0     1.027866    0.000000        0.0    0.0      0  \n",
      "869    0.0   0.0     0.000000  252.234146        0.0    0.0      0  \n",
      "870    0.0   0.0     0.000000    1.011918        0.0    0.0      0  \n",
      "\n",
      "[871 rows x 609 columns]>\n"
     ]
    }
   ],
   "source": [
    "import pandas as pd\n",
    "import numpy as np\n",
    "\n",
    "dfe1 = pd.read_csv(\"e1_positive.csv\")\n",
    "print(dfe1.head)"
   ]
  },
  {
   "cell_type": "markdown",
   "metadata": {},
   "source": [
    "##### Number of samples and features in data sample with the .shape function."
   ]
  },
  {
   "cell_type": "code",
   "execution_count": 46,
   "metadata": {},
   "outputs": [
    {
     "name": "stdout",
     "output_type": "stream",
     "text": [
      "Number of data samples:  871\n",
      "Number of features:  609\n"
     ]
    }
   ],
   "source": [
    "n_samples, n_features = dfe1.shape\n",
    "print(\"Number of data samples: \", n_samples)\n",
    "print(\"Number of features: \", n_features)"
   ]
  },
  {
   "cell_type": "markdown",
   "metadata": {},
   "source": [
    "##### Load packages essential for randomforest classfier froms scikit\n",
    "Display positive and negative samples\n",
    "Display missing feature values"
   ]
  },
  {
   "cell_type": "code",
   "execution_count": 78,
   "metadata": {},
   "outputs": [
    {
     "name": "stdout",
     "output_type": "stream",
     "text": [
      "Counter({0: 572, 1: 299})\n",
      "             0\n",
      "GABRG2       0\n",
      "CELF4        0\n",
      "SRRM4        0\n",
      "SLC1A3       0\n",
      "ATP1A3       0\n",
      "...         ..\n",
      "LINC00639.2  0\n",
      "SMOC1        0\n",
      "LINC00498    0\n",
      "GFRA1        0\n",
      "Label        0\n",
      "\n",
      "[609 rows x 1 columns]\n",
      "Missing features\n",
      "Missing Values:  False\n",
      "Missing Value Count:  0\n"
     ]
    }
   ],
   "source": [
    "from sklearn.ensemble import RandomForestClassifier\n",
    "from sklearn.model_selection import train_test_split\n",
    "from sklearn.metrics import classification_report, confusion_matrix, accuracy_score\n",
    "import collections\n",
    "from sklearn.model_selection import validation_curve\n",
    "\n",
    "SamplesbyLabel = collections.Counter(dfe1['Label'])\n",
    "print(SamplesbyLabel)\n",
    "\n",
    "#MV = pd.concat([dfe1.isnull().sum()], axis = 1, keys = [dfe1])\n",
    "MV = pd.concat([dfe1.isnull().sum()], axis=1)\n",
    "print(MV)\n",
    "print(\"Missing features\")\n",
    "#print(MV[MV.sum(axis=1)>5])\n",
    "print(\"Missing Values: \", dfe1.isnull().values.any())\n",
    "print(\"Missing Value Count: \", dfe1.isnull().sum().sum())"
   ]
  },
  {
   "cell_type": "markdown",
   "metadata": {},
   "source": [
    "##### Display categorical features"
   ]
  },
  {
   "cell_type": "code",
   "execution_count": 64,
   "metadata": {},
   "outputs": [
    {
     "name": "stdout",
     "output_type": "stream",
     "text": [
      "Data types of the features:\n",
      "Counter({dtype('float64'): 608, dtype('int64'): 1})\n",
      "Number of categorical columns:  ['Label']\n"
     ]
    }
   ],
   "source": [
    "print(\"Data types of the features:\")\n",
    "print(collections.Counter(dfe1.dtypes))\n",
    "dfe1.select_dtypes(exclude = [\"int_\",\"float_\"]).columns\n",
    "\n",
    "cat_col =[i for i in dfe1.columns if dfe1.dtypes[i] != (\"float_\")]\n",
    "\n",
    "print(\"Number of categorical columns: \", cat_col)\n"
   ]
  },
  {
   "cell_type": "markdown",
   "metadata": {},
   "source": [
    "Prepare data for testing and training and look at the shape of all data"
   ]
  },
  {
   "cell_type": "code",
   "execution_count": 49,
   "metadata": {},
   "outputs": [
    {
     "name": "stdout",
     "output_type": "stream",
     "text": [
      "Training data:  (609, 608)\n",
      "Testing data  (262, 608)\n",
      "Labels in Training Samples  (609,) \n",
      " Labels in Testing Samples  (262,)\n"
     ]
    }
   ],
   "source": [
    "\n",
    "X = dfe1.drop(\"Label\", axis = 1)\n",
    "Y = dfe1[\"Label\"]\n",
    "Columnlist = list(X.columns) # listing out the feature(column names) from sample dataColumnlist\n",
    "X_train, X_test, y_train, y_test = train_test_split(X, Y, test_size =0.3, shuffle =True) #to make the results deterministic use random_state = 0/42\n",
    "print(\"Training data: \", X_train.shape)\n",
    "print(\"Testing data \", X_test.shape)\n",
    "print(\"Labels in Training Samples \",y_train.shape,\"\\n\",\n",
    "    \"Labels in Testing Samples \", y_test.shape)\n"
   ]
  },
  {
   "cell_type": "markdown",
   "metadata": {},
   "source": [
    "##### Instantiate the model and training the data"
   ]
  },
  {
   "cell_type": "code",
   "execution_count": 75,
   "metadata": {},
   "outputs": [
    {
     "name": "stdout",
     "output_type": "stream",
     "text": [
      "Training Labels\n",
      "Counter({0: 398, 1: 211})\n",
      "Testing Labels\n",
      "Counter({0: 174, 1: 88})\n"
     ]
    }
   ],
   "source": [
    "import collections\n",
    "model = RandomForestClassifier(n_estimators =5000, max_features = \"log2\", bootstrap = True, oob_score = True) #oob_score = True\n",
    "model.fit(X_train,y_train)\n",
    "\n",
    "print(\"Training Labels\")\n",
    "print(collections.Counter(y_train))\n",
    "\n",
    "print(\"Testing Labels\")\n",
    "print(collections.Counter(y_test))\n"
   ]
  },
  {
   "cell_type": "markdown",
   "metadata": {},
   "source": [
    "##### Performance of the model on the test data"
   ]
  },
  {
   "cell_type": "code",
   "execution_count": 51,
   "metadata": {},
   "outputs": [
    {
     "name": "stdout",
     "output_type": "stream",
     "text": [
      "Cross Validation Scores: [1.         0.99342105 0.99342105 0.99342105]\n",
      "Mean score and the 95% confidence interval of the score estimate\n",
      "Cross Validation Score: 0.995 (+/- 0.006)\n",
      "Out-Of-Bag Error Estimate: 0.995\n"
     ]
    }
   ],
   "source": [
    "from sklearn.model_selection import cross_val_score\n",
    "\n",
    "scores = cross_val_score(model, X_train, y_train, cv=4)\n",
    "print(\"Cross Validation Scores:\",scores)\n",
    "\n",
    "\n",
    "print(\"Mean score and the 95% confidence interval of the score estimate\")\n",
    "print(\"Cross Validation Score: %0.3f (+/- %0.3f)\" % (scores.mean(), scores.std() *2))\n",
    "\n",
    "print(\"Out-Of-Bag Error Estimate: {:.3f}\".format(model.oob_score_))\n"
   ]
  },
  {
   "cell_type": "code",
   "execution_count": 10,
   "metadata": {},
   "outputs": [
    {
     "name": "stdout",
     "output_type": "stream",
     "text": [
      "Confusion Matrix\n",
      "[[176   0]\n",
      " [  1  85]]\n",
      "Classification Report\n",
      "              precision    recall  f1-score   support\n",
      "\n",
      "           0       0.99      1.00      1.00       176\n",
      "           1       1.00      0.99      0.99        86\n",
      "\n",
      "    accuracy                           1.00       262\n",
      "   macro avg       1.00      0.99      1.00       262\n",
      "weighted avg       1.00      1.00      1.00       262\n",
      "\n",
      "Train Accuracy Score\n",
      "1.0\n",
      "Test Accuracy Score\n",
      "0.9961832061068703\n"
     ]
    }
   ],
   "source": [
    "prediction = model.predict(X_test)\n",
    "\n",
    "print(\"Confusion Matrix\")\n",
    "conf_matrix = confusion_matrix(y_test,prediction)\n",
    "print(conf_matrix)\n",
    "\n",
    "print(\"Classification Report\")\n",
    "print(classification_report(y_test,prediction))\n",
    "\n",
    "print(\"Train Accuracy Score\")\n",
    "print(model.score(X_train, y_train))\n",
    "\n",
    "print(\"Test Accuracy Score\")\n",
    "print(model.score(X_test, y_test))\n",
    "\n",
    "\n",
    "#MeanAccuracyScore = model.score(X_test,y_test)\n",
    "#print(\"Mean Accuracy Score: {:.3f}\".format(MeanAccuracyScore))"
   ]
  },
  {
   "cell_type": "markdown",
   "metadata": {},
   "source": [
    "##### Print confusion matrix"
   ]
  },
  {
   "cell_type": "code",
   "execution_count": 65,
   "metadata": {},
   "outputs": [
    {
     "data": {
      "text/plain": [
       "<function matplotlib.pyplot.show(*args, **kw)>"
      ]
     },
     "execution_count": 65,
     "metadata": {},
     "output_type": "execute_result"
    },
    {
     "data": {
      "image/png": "[encoded data removed]",
      "text/plain": [
       "<Figure size 432x288 with 2 Axes>"
      ]
     },
     "metadata": {
      "needs_background": "light"
     },
     "output_type": "display_data"
    }
   ],
   "source": [
    "from sklearn.metrics import plot_confusion_matrix\n",
    "import matplotlib.pyplot as plt\n",
    "\n",
    "\n",
    "disp = plot_confusion_matrix(model, X_test, y_test, cmap=plt.cm.Blues, normalize='true')\n",
    "\n",
    "#disp = plot_confusion_matrix(clf, X_test, y_test, cmap=plt.cm.Blues, normalize='true') # Prepares the confusion matrix of the classiﬁer by testing on test data X_test and true labels y_test. ● \n",
    "disp.ax_.set_title(\"Confusion Matrix\") \n",
    "plt.show"
   ]
  },
  {
   "cell_type": "markdown",
   "metadata": {},
   "source": [
    "##### Tune Hyperparameters for the best results with CV"
   ]
  },
  {
   "cell_type": "code",
   "execution_count": 91,
   "metadata": {},
   "outputs": [
    {
     "name": "stdout",
     "output_type": "stream",
     "text": [
      "Fitting 3 folds for each of 10 candidates, totalling 30 fits\n",
      "[CV] n_estimators=5000, max_features=log2, bootstrap=False ...........\n"
     ]
    },
    {
     "name": "stderr",
     "output_type": "stream",
     "text": [
      "[Parallel(n_jobs=1)]: Using backend SequentialBackend with 1 concurrent workers.\n"
     ]
    },
    {
     "name": "stdout",
     "output_type": "stream",
     "text": [
      "[CV]  n_estimators=5000, max_features=log2, bootstrap=False, total=  14.1s\n",
      "[CV] n_estimators=5000, max_features=log2, bootstrap=False ...........\n"
     ]
    },
    {
     "name": "stderr",
     "output_type": "stream",
     "text": [
      "[Parallel(n_jobs=1)]: Done   1 out of   1 | elapsed:   14.0s remaining:    0.0s\n"
     ]
    },
    {
     "name": "stdout",
     "output_type": "stream",
     "text": [
      "[CV]  n_estimators=5000, max_features=log2, bootstrap=False, total=  16.5s\n",
      "[CV] n_estimators=5000, max_features=log2, bootstrap=False ...........\n",
      "[CV]  n_estimators=5000, max_features=log2, bootstrap=False, total=  12.3s\n",
      "[CV] n_estimators=20, max_features=log2, bootstrap=False .............\n",
      "[CV]  n_estimators=20, max_features=log2, bootstrap=False, total=   0.1s\n",
      "[CV] n_estimators=20, max_features=log2, bootstrap=False .............\n",
      "[CV]  n_estimators=20, max_features=log2, bootstrap=False, total=   0.0s\n",
      "[CV] n_estimators=20, max_features=log2, bootstrap=False .............\n",
      "[CV]  n_estimators=20, max_features=log2, bootstrap=False, total=   0.1s\n",
      "[CV] n_estimators=1000, max_features=auto, bootstrap=True ............\n",
      "[CV]  n_estimators=1000, max_features=auto, bootstrap=True, total=   2.9s\n",
      "[CV] n_estimators=1000, max_features=auto, bootstrap=True ............\n",
      "[CV]  n_estimators=1000, max_features=auto, bootstrap=True, total=   2.9s\n",
      "[CV] n_estimators=1000, max_features=auto, bootstrap=True ............\n",
      "[CV]  n_estimators=1000, max_features=auto, bootstrap=True, total=   3.0s\n",
      "[CV] n_estimators=20, max_features=auto, bootstrap=True ..............\n",
      "[CV]  n_estimators=20, max_features=auto, bootstrap=True, total=   0.1s\n",
      "[CV] n_estimators=20, max_features=auto, bootstrap=True ..............\n",
      "[CV]  n_estimators=20, max_features=auto, bootstrap=True, total=   0.1s\n",
      "[CV] n_estimators=20, max_features=auto, bootstrap=True ..............\n",
      "[CV]  n_estimators=20, max_features=auto, bootstrap=True, total=   0.1s\n",
      "[CV] n_estimators=10000, max_features=log2, bootstrap=True ...........\n"
     ]
    },
    {
     "name": "stderr",
     "output_type": "stream",
     "text": [
      "c:\\users\\laksh\\appdata\\local\\programs\\python\\python36\\lib\\site-packages\\sklearn\\ensemble\\_forest.py:523: UserWarning: Some inputs do not have OOB scores. This probably means too few trees were used to compute any reliable oob estimates.\n",
      "  warn(\"Some inputs do not have OOB scores. \"\n",
      "c:\\users\\laksh\\appdata\\local\\programs\\python\\python36\\lib\\site-packages\\sklearn\\ensemble\\_forest.py:528: RuntimeWarning: invalid value encountered in true_divide\n",
      "  predictions[k].sum(axis=1)[:, np.newaxis])\n"
     ]
    },
    {
     "name": "stdout",
     "output_type": "stream",
     "text": [
      "[CV]  n_estimators=10000, max_features=log2, bootstrap=True, total=  24.8s\n",
      "[CV] n_estimators=10000, max_features=log2, bootstrap=True ...........\n",
      "[CV]  n_estimators=10000, max_features=log2, bootstrap=True, total=  25.2s\n",
      "[CV] n_estimators=10000, max_features=log2, bootstrap=True ...........\n",
      "[CV]  n_estimators=10000, max_features=log2, bootstrap=True, total=  24.9s\n",
      "[CV] n_estimators=100, max_features=log2, bootstrap=True .............\n",
      "[CV]  n_estimators=100, max_features=log2, bootstrap=True, total=   0.3s\n",
      "[CV] n_estimators=100, max_features=log2, bootstrap=True .............\n",
      "[CV]  n_estimators=100, max_features=log2, bootstrap=True, total=   0.3s\n",
      "[CV] n_estimators=100, max_features=log2, bootstrap=True .............\n",
      "[CV]  n_estimators=100, max_features=log2, bootstrap=True, total=   0.3s\n",
      "[CV] n_estimators=5000, max_features=auto, bootstrap=True ............\n",
      "[CV]  n_estimators=5000, max_features=auto, bootstrap=True, total=  14.8s\n",
      "[CV] n_estimators=5000, max_features=auto, bootstrap=True ............\n",
      "[CV]  n_estimators=5000, max_features=auto, bootstrap=True, total=  14.7s\n",
      "[CV] n_estimators=5000, max_features=auto, bootstrap=True ............\n",
      "[CV]  n_estimators=5000, max_features=auto, bootstrap=True, total=  14.9s\n",
      "[CV] n_estimators=10000, max_features=log2, bootstrap=False ..........\n",
      "[CV]  n_estimators=10000, max_features=log2, bootstrap=False, total=  24.5s\n",
      "[CV] n_estimators=10000, max_features=log2, bootstrap=False ..........\n",
      "[CV]  n_estimators=10000, max_features=log2, bootstrap=False, total=  24.6s\n",
      "[CV] n_estimators=10000, max_features=log2, bootstrap=False ..........\n",
      "[CV]  n_estimators=10000, max_features=log2, bootstrap=False, total=  24.9s\n",
      "[CV] n_estimators=1000, max_features=log2, bootstrap=False ...........\n",
      "[CV]  n_estimators=1000, max_features=log2, bootstrap=False, total=   2.5s\n",
      "[CV] n_estimators=1000, max_features=log2, bootstrap=False ...........\n",
      "[CV]  n_estimators=1000, max_features=log2, bootstrap=False, total=   2.5s\n",
      "[CV] n_estimators=1000, max_features=log2, bootstrap=False ...........\n",
      "[CV]  n_estimators=1000, max_features=log2, bootstrap=False, total=   2.7s\n",
      "[CV] n_estimators=500, max_features=log2, bootstrap=True .............\n",
      "[CV]  n_estimators=500, max_features=log2, bootstrap=True, total=   1.3s\n",
      "[CV] n_estimators=500, max_features=log2, bootstrap=True .............\n",
      "[CV]  n_estimators=500, max_features=log2, bootstrap=True, total=   1.3s\n",
      "[CV] n_estimators=500, max_features=log2, bootstrap=True .............\n",
      "[CV]  n_estimators=500, max_features=log2, bootstrap=True, total=   1.2s\n"
     ]
    },
    {
     "name": "stderr",
     "output_type": "stream",
     "text": [
      "[Parallel(n_jobs=1)]: Done  30 out of  30 | elapsed:  4.3min finished\n"
     ]
    },
    {
     "name": "stdout",
     "output_type": "stream",
     "text": [
      "Results for the best hyperparameter\n",
      "{'n_estimators': 5000, 'max_features': 'log2', 'bootstrap': 'False'}\n",
      "REsults of randomized hyperparameter tuning\n",
      "{'mean_fit_time': array([13.70651428,  0.04783821,  2.8523376 ,  0.07415231, 23.90064597,\n",
      "        0.28245711, 14.30173898, 23.62024721,  2.46646253,  1.21547302]), 'std_fit_time': array([1.7407328 , 0.00416597, 0.02236018, 0.00471264, 0.15902811,\n",
      "       0.00540337, 0.06307682, 0.16083821, 0.07872717, 0.02987256]), 'mean_score_time': array([0.58735824, 0.0104301 , 0.10281579, 0.        , 1.047791  ,\n",
      "       0.01435399, 0.51169213, 1.02352015, 0.10029205, 0.05427694]), 'std_score_time': array([9.45637576e-02, 7.37520661e-03, 2.82519481e-03, 0.00000000e+00,\n",
      "       2.72244152e-02, 4.09671758e-03, 1.92505576e-02, 6.93481811e-03,\n",
      "       3.68459354e-05, 6.41561482e-03]), 'param_n_estimators': masked_array(data=[5000, 20, 1000, 20, 10000, 100, 5000, 10000, 1000, 500],\n",
      "             mask=[False, False, False, False, False, False, False, False,\n",
      "                   False, False],\n",
      "       fill_value='?',\n",
      "            dtype=object), 'param_max_features': masked_array(data=['log2', 'log2', 'auto', 'auto', 'log2', 'log2', 'auto',\n",
      "                   'log2', 'log2', 'log2'],\n",
      "             mask=[False, False, False, False, False, False, False, False,\n",
      "                   False, False],\n",
      "       fill_value='?',\n",
      "            dtype=object), 'param_bootstrap': masked_array(data=['False', 'False', 'True', 'True', 'True', 'True',\n",
      "                   'True', 'False', 'False', 'True'],\n",
      "             mask=[False, False, False, False, False, False, False, False,\n",
      "                   False, False],\n",
      "       fill_value='?',\n",
      "            dtype=object), 'params': [{'n_estimators': 5000, 'max_features': 'log2', 'bootstrap': 'False'}, {'n_estimators': 20, 'max_features': 'log2', 'bootstrap': 'False'}, {'n_estimators': 1000, 'max_features': 'auto', 'bootstrap': 'True'}, {'n_estimators': 20, 'max_features': 'auto', 'bootstrap': 'True'}, {'n_estimators': 10000, 'max_features': 'log2', 'bootstrap': 'True'}, {'n_estimators': 100, 'max_features': 'log2', 'bootstrap': 'True'}, {'n_estimators': 5000, 'max_features': 'auto', 'bootstrap': 'True'}, {'n_estimators': 10000, 'max_features': 'log2', 'bootstrap': 'False'}, {'n_estimators': 1000, 'max_features': 'log2', 'bootstrap': 'False'}, {'n_estimators': 500, 'max_features': 'log2', 'bootstrap': 'True'}], 'split0_test_score': array([1.        , 0.99507389, 1.        , 1.        , 1.        ,\n",
      "       1.        , 1.        , 1.        , 1.        , 1.        ]), 'split1_test_score': array([0.99507389, 0.99507389, 0.99014778, 0.99014778, 0.99507389,\n",
      "       0.99507389, 0.99507389, 0.99507389, 0.99507389, 0.99507389]), 'split2_test_score': array([0.99014778, 0.99014778, 0.99014778, 0.98522167, 0.99014778,\n",
      "       0.99014778, 0.99014778, 0.99014778, 0.99014778, 0.99014778]), 'mean_test_score': array([0.99507389, 0.99343186, 0.99343186, 0.99178982, 0.99507389,\n",
      "       0.99507389, 0.99507389, 0.99507389, 0.99507389, 0.99507389]), 'std_test_score': array([0.00402215, 0.00232219, 0.00464438, 0.00614394, 0.00402215,\n",
      "       0.00402215, 0.00402215, 0.00402215, 0.00402215, 0.00402215]), 'rank_test_score': array([ 1,  8,  8, 10,  1,  1,  1,  1,  1,  1])}\n",
      "Best parameter score\n",
      "0.9950738916256157\n"
     ]
    }
   ],
   "source": [
    "from sklearn.model_selection import RandomizedSearchCV        \n",
    "\n",
    "random_grid = {'n_estimators': [20,50, 100, 500, 1000,5000,10000],\n",
    "              'max_features': [\"log2\", \"auto\"],\n",
    "             'bootstrap': ['False', 'True']\n",
    "             }\n",
    "\n",
    "model_random = RandomizedSearchCV(estimator= model, param_distributions =random_grid, n_iter = 10, cv=3, verbose = 2, error_score = 'raise')\n",
    "model_random.fit(X_train, y_train)\n",
    "\n",
    "print(\"Results for the best hyperparameter\")\n",
    "print(model_random.best_params_)\n",
    "model_random_results = model_random.cv_results_\n",
    "print(\"REsults of randomized hyperparameter tuning\")\n",
    "print(model_random_results)\n",
    "print(\"Best parameter score\")\n",
    "print(model_random.best_score_)\n"
   ]
  },
  {
   "cell_type": "markdown",
   "metadata": {},
   "source": [
    "##### Listing the top 10 features using Gini Impurity"
   ]
  },
  {
   "cell_type": "code",
   "execution_count": 12,
   "metadata": {},
   "outputs": [
    {
     "name": "stdout",
     "output_type": "stream",
     "text": [
      "('TESPA1', 0.028067954645461548)\n",
      "('SLC17A7', 0.02471463977652451)\n",
      "('LINC00507', 0.02251233024398178)\n",
      "('ANKRD33B', 0.020134464690719285)\n",
      "('NPTX1', 0.01867383743584012)\n",
      "('SLIT3', 0.017902651107984516)\n",
      "('TBR1', 0.017671603848515766)\n",
      "('LINC00508', 0.01749240973999223)\n",
      "('SLIT3.1', 0.017486478403177297)\n",
      "('LINC00152', 0.017348564981680328)\n",
      "('MIR44351HG', 0.017260277223210156)\n"
     ]
    }
   ],
   "source": [
    "import itertools\n",
    "features_dict = {}\n",
    "for i in range(len(model.feature_importances_)):\n",
    "    features_dict[Columnlist[i]] = model.feature_importances_[i]\n",
    "sorted_feature_dict = sorted(features_dict.items(), key = lambda x:x[1], reverse = True)\n",
    "\n",
    "i = 0\n",
    "while (i<11):\n",
    "    print(sorted_feature_dict[i])\n",
    "    i +=1 \n",
    "    \n",
    "    \n"
   ]
  },
  {
   "cell_type": "markdown",
   "metadata": {},
   "source": [
    "##### Using the model on 4 random data samples from the dataset"
   ]
  },
  {
   "cell_type": "code",
   "execution_count": 18,
   "metadata": {},
   "outputs": [
    {
     "name": "stdout",
     "output_type": "stream",
     "text": [
      "Random Predictin Lables Counter({0: 3, 1: 1})\n",
      "Confusion Matrix For Random Samples\n",
      "[[3 0]\n",
      " [0 1]]\n",
      "Classification Report for Random Samples\n",
      "              precision    recall  f1-score   support\n",
      "\n",
      "           0       1.00      1.00      1.00         3\n",
      "           1       1.00      1.00      1.00         1\n",
      "\n",
      "    accuracy                           1.00         4\n",
      "   macro avg       1.00      1.00      1.00         4\n",
      "weighted avg       1.00      1.00      1.00         4\n",
      "\n"
     ]
    }
   ],
   "source": [
    "dfe2 = dfe1.iloc[298:302, :]\n",
    "X1 = dfe2.drop(\"Label\", axis = 1)\n",
    "Y1 = dfe2[\"Label\"]\n",
    "\n",
    "print(\"Random Predictin Lables\", collections.Counter(Y1))\n",
    "\n",
    "\n",
    "prediction1 = model.predict(X1)\n",
    "\n",
    "print(\"Confusion Matrix For Random Samples\")\n",
    "conf_matrix = confusion_matrix(Y1,prediction1)\n",
    "print(conf_matrix)\n",
    "\n",
    "print(\"Classification Report for Random Samples\")\n",
    "print(classification_report(Y1,prediction1))\n",
    "\n"
   ]
  },
  {
   "cell_type": "markdown",
   "metadata": {},
   "source": [
    "Hyperparameter tuning and finding the best parameter"
   ]
  },
  {
   "cell_type": "markdown",
   "metadata": {},
   "source": [
    "##### Modifying Feature list to inlcude only the top 5 features"
   ]
  },
  {
   "cell_type": "code",
   "execution_count": 87,
   "metadata": {},
   "outputs": [
    {
     "name": "stdout",
     "output_type": "stream",
     "text": [
      "Sample Size 871\n",
      "Sample data with top 5 features \n",
      " \n",
      " <bound method NDFrame.head of          TESPA1     SLC17A7   LINC00507    ANKRD33B       NPTX1\n",
      "0    590.644984   58.063405  130.142115   64.069964  138.150861\n",
      "1    407.388380  122.417198  151.516368  122.417198   13.044455\n",
      "2    406.110148   52.271603  331.723636  122.637223    2.010446\n",
      "3    214.304903   23.140905  449.738458   64.392083  103.631009\n",
      "4    288.652933   33.074815  527.192510   25.056678    2.004534\n",
      "..          ...         ...         ...         ...         ...\n",
      "866    0.000000    0.000000    1.010026    0.000000    1.010026\n",
      "867    0.000000    1.007509    0.000000    0.000000    0.000000\n",
      "868    1.027866    0.000000    0.000000    0.000000    0.000000\n",
      "869    0.000000    0.000000    0.000000    0.000000    0.000000\n",
      "870    0.000000    0.000000    0.000000    0.000000    0.000000\n",
      "\n",
      "[871 rows x 5 columns]>\n",
      "Cross Validation Scores: [1.         0.99342105 0.99342105 0.99342105]\n",
      "Mean score and the 95% confidence interval of the score estimate \n",
      " \n",
      "\n",
      "Cross Validation Score: 0.990 (+/- 0.020) \n",
      " \n",
      "\n",
      "Out-Of-Bag Error Estimate: 0.990 \n",
      " \n",
      "\n",
      "Confusion Matrix \n",
      " \n",
      "\n",
      "[[165   2]\n",
      " [  2  93]]\n",
      "Classification Report \n",
      " \n",
      "\n",
      "              precision    recall  f1-score   support\n",
      "\n",
      "           0       0.99      0.99      0.99       167\n",
      "           1       0.98      0.98      0.98        95\n",
      "\n",
      "    accuracy                           0.98       262\n",
      "   macro avg       0.98      0.98      0.98       262\n",
      "weighted avg       0.98      0.98      0.98       262\n",
      "\n"
     ]
    }
   ],
   "source": [
    "columns = ['TESPA1','SLC17A7', 'LINC00507','ANKRD33B','NPTX1','Label']\n",
    "dfe3 = pd.DataFrame(dfe1, columns=columns)\n",
    "\n",
    "n2_samples,n2_features = dfe3.shape\n",
    "print(\"Sample Size\", n2_samples)\n",
    "\n",
    "\n",
    "X2 = dfe3.drop(\"Label\", axis = 1)\n",
    "Y2 = dfe3[\"Label\"]\n",
    "print(\"Sample data with top 5 features \\n \\n\" , X2.head)\n",
    "\n",
    "X2_train, X2_test, y2_train, y2_test = train_test_split(X2, Y2, test_size = 0.3, shuffle = True)\n",
    "model2 = RandomForestClassifier(n_estimators = 10000, max_features = \"log2\", bootstrap = True, oob_score = True)\n",
    "model2.fit(X2_train, y2_train)\n",
    "\n",
    "scores2 = cross_val_score(model2, X2_train, y2_train, cv=4)\n",
    "print(\"Cross Validation Scores:\",scores)\n",
    "\n",
    "\n",
    "print(\"Mean score and the 95% confidence interval of the score estimate \\n \\n\")\n",
    "print(\"Cross Validation Score: %0.3f (+/- %0.3f) \\n \\n\" % (scores2.mean(), scores2.std() *2))\n",
    "\n",
    "print(\"Out-Of-Bag Error Estimate: {:.3f} \\n \\n\".format(model2.oob_score_))\n",
    "\n",
    "prediction2 = model2.predict(X2_test)\n",
    "\n",
    "\n",
    "print(\"Confusion Matrix \\n \\n\")\n",
    "conf_matrix2 = confusion_matrix(y2_test,prediction2)\n",
    "print(conf_matrix2)\n",
    "\n",
    "print(\"Classification Report \\n \\n\")\n",
    "print(classification_report(y2_test,prediction2))\n",
    "\n",
    "\n",
    "\n",
    "\n",
    "\n",
    "#X1_train, X1_test, y1_train, y1_test = train_test_split(X1, Y1, test_size =0.3, shuffle =True)\n",
    "#model1 = RandomForestClassifier(n_estimators =1000, max_features = \"log2\", bootstrap = True, oob_score = True) \n",
    "#model1.fit(X1_train,y1_train)"
   ]
  },
  {
   "cell_type": "markdown",
   "metadata": {},
   "source": [
    "##### Plotting the Validation graph for n_estimators with CV"
   ]
  },
  {
   "cell_type": "code",
   "execution_count": 100,
   "metadata": {},
   "outputs": [
    {
     "name": "stdout",
     "output_type": "stream",
     "text": [
      "n_estimator values tested [20, 50, 100, 500, 1000, 2000, 5000, 7000, 8000, 10000]\n",
      "Train Mean =  [1. 1. 1. 1. 1. 1. 1. 1. 1. 1.]\n",
      "Test Mean =  [0.99178982 0.99178982 0.99507389 0.99507389 0.99507389 0.99343186\n",
      " 0.99343186 0.99507389 0.99507389 0.99343186]\n"
     ]
    },
    {
     "data": {
      "image/png": "[encoded data removed]",
      "text/plain": [
       "<Figure size 432x288 with 1 Axes>"
      ]
     },
     "metadata": {
      "needs_background": "light"
     },
     "output_type": "display_data"
    }
   ],
   "source": [
    "# listing param range\n",
    "param_range = [20,50,100,500,1000,2000,5000,7000, 8000,10000]\n",
    "\n",
    "print(\"n_estimator values tested\", param_range)\n",
    "\n",
    "#CAlculate accuracy of training and test data\n",
    "\n",
    "train_scores, test_scores =  validation_curve(RandomForestClassifier(), X_train, y_train, param_range = param_range, \n",
    "                                              param_name = \"n_estimators\", scoring = \"accuracy\", cv=3 )\n",
    "\n",
    "#calculate mean and std of training scores\n",
    "\n",
    "train_mean = np.mean(train_scores, axis = 1)\n",
    "train_std = np.std(train_scores, axis =1)\n",
    "\n",
    "print(\"Train Mean = \" , train_mean)\n",
    "\n",
    "#calculate mean and std of training scores\n",
    "\n",
    "test_mean = np.mean(test_scores, axis = 1)\n",
    "test_std = np.std(test_scores, axis =1)\n",
    "\n",
    "print(\"Test Mean = \" , test_mean)\n",
    "\n",
    "# Plot mean accuracy scores for training and test sets\n",
    "plt.plot(param_range, train_mean, label=\"Training score\", color=\"black\")\n",
    "plt.plot(param_range, test_mean, label=\"Validation score\", color=\"dimgrey\")\n",
    "\n",
    "# Plot accurancy bands for training and test sets\n",
    "plt.fill_between(param_range, train_mean - train_std, train_mean + train_std, color=\"gray\")\n",
    "plt.fill_between(param_range, test_mean - test_std, test_mean + test_std, color=\"gainsboro\")\n",
    "\n",
    "# Create plot\n",
    "plt.title(\"Validation Curve With Random Forest(with CV)\")\n",
    "plt.xlabel(\"Number Of Trees\")\n",
    "plt.ylabel(\"Accuracy Score\")\n",
    "plt.tight_layout()\n",
    "plt.legend(loc=\"best\")\n",
    "plt.show()\n",
    "\n",
    "\n"
   ]
  },
  {
   "cell_type": "code",
   "execution_count": 96,
   "metadata": {},
   "outputs": [
    {
     "name": "stdout",
     "output_type": "stream",
     "text": [
      "n_estimator values tested [20, 50, 100, 500, 1000, 2000, 5000, 7000, 8000, 10000]\n",
      "Train Mean =  [1. 1. 1. 1. 1. 1. 1. 1. 1. 1.]\n",
      "Test Mean =  [0.98360656 0.98360656 0.98360656 0.98360656 0.98360656 0.98360656\n",
      " 0.98360656 0.98360656 0.98360656 0.98360656]\n"
     ]
    },
    {
     "data": {
      "image/png": "[encoded data removed]",
      "text/plain": [
       "<Figure size 432x288 with 1 Axes>"
      ]
     },
     "metadata": {
      "needs_background": "light"
     },
     "output_type": "display_data"
    }
   ],
   "source": [
    "from sklearn.model_selection import ShuffleSplit\n",
    "# listing param range\n",
    "param_range = [20,50,100,500,1000,2000,5000,7000, 8000,10000]\n",
    "\n",
    "print(\"n_estimator values tested\", param_range)\n",
    "\n",
    "#CAlculate accuracy of training and test data\n",
    "\n",
    "train_scores, test_scores =  validation_curve(RandomForestClassifier(), X_train, y_train, param_range = param_range, \n",
    "                                              param_name = \"n_estimators\", scoring = \"accuracy\", cv=ShuffleSplit(n_splits=1))\n",
    "\n",
    "#calculate mean and std of training scores\n",
    "\n",
    "train_mean = np.mean(train_scores, axis = 1)\n",
    "train_std = np.std(train_scores, axis =1)\n",
    "\n",
    "print(\"Train Mean = \" , train_mean)\n",
    "\n",
    "#calculate mean and std of training scores\n",
    "\n",
    "test_mean = np.mean(test_scores, axis = 1)\n",
    "test_std = np.std(test_scores, axis =1)\n",
    "\n",
    "print(\"Test Mean = \" , test_mean)\n",
    "\n",
    "# Plot mean accuracy scores for training and test sets\n",
    "plt.plot(param_range, train_mean, label=\"Training score\", color=\"black\")\n",
    "plt.plot(param_range, test_mean, label=\"Validation score\", color=\"dimgrey\")\n",
    "\n",
    "# Plot accurancy bands for training and test sets\n",
    "plt.fill_between(param_range, train_mean - train_std, train_mean + train_std, color=\"gray\")\n",
    "plt.fill_between(param_range, test_mean - test_std, test_mean + test_std, color=\"gainsboro\")\n",
    "\n",
    "# Create plot\n",
    "plt.title(\"Validation Curve With Random Forest(without CV)\")\n",
    "plt.xlabel(\"Number Of Trees\")\n",
    "plt.ylabel(\"Accuracy Score\")\n",
    "plt.tight_layout()\n",
    "plt.legend(loc=\"best\")\n",
    "plt.show()"
   ]
  }
 ],
 "metadata": {
  "kernelspec": {
   "display_name": "Python 3",
   "language": "python",
   "name": "python3"
  },
  "language_info": {
   "codemirror_mode": {
    "name": "ipython",
    "version": 3
   },
   "file_extension": ".py",
   "mimetype": "text/x-python",
   "name": "python",
   "nbconvert_exporter": "python",
   "pygments_lexer": "ipython3",
   "version": "3.6.3"
  }
 },
 "nbformat": 4,
 "nbformat_minor": 4
}
